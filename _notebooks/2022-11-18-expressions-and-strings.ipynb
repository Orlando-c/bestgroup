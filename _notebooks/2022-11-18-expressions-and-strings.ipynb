{
 "cells": [
  {
   "cell_type": "markdown",
   "metadata": {},
   "source": [
    "# Big Idea 3!\n",
    "> Lesson on Big Idea 3 which includes expressions, strings, psuedocode, and more!\n",
    "\n",
    "- toc: true\n",
    "- comments: true\n",
    "- categories: [Week-13,Big-Idea-3]"
   ]
  },
  {
   "cell_type": "markdown",
   "metadata": {},
   "source": [
    "{% include frontend-nav.html %}"
   ]
  },
  {
   "cell_type": "markdown",
   "metadata": {},
   "source": [
    "## 3.3 Expressions(Show video 1 and 3)  "
   ]
  },
  {
   "cell_type": "markdown",
   "metadata": {},
   "source": [
    "### Vocab: fill in the blanks  \n",
    "  \n",
    "the symbol for exponent is **  \n",
    "the symbol for addition is _______  \n",
    "the symbol for subtraction is ________  \n",
    "the symbol for multiplication is ________  \n",
    "the symbol for division is ________  \n",
    "the symbol for modulus is __________  \n",
    "what does the modulus operator do? ___________  \n",
    "an algorithm is _________  "
   ]
  },
  {
   "cell_type": "markdown",
   "metadata": {},
   "source": [
    "Sequencing Practice: the code below does not follow the intended steps below. change the code so that it does so.\n",
    "1. divide value1 by 10(value1 = 5)  \n",
    "2. multiply 2 from the result of the step 1  \n",
    "3. subtract 4 from the result of the step 2\n",
    "4. print the result of step 3"
   ]
  },
  {
   "cell_type": "code",
   "execution_count": null,
   "metadata": {},
   "outputs": [],
   "source": [
    "value1 = 5\n",
    "value2 = value1 ? x #step 1\n",
    "value3 = value2 ? y #step 2\n",
    "value4 = value3 ? z #step 3\n",
    "print(value4)"
   ]
  },
  {
   "cell_type": "markdown",
   "metadata": {},
   "source": [
    "Selection/Iteration Practice: Create a function to print ONLY the numbers of numlist that are divisble by 3.  \n",
    "Hint: use the MOD operator (a % b) to find the remainder when a is divided by b."
   ]
  },
  {
   "cell_type": "code",
   "execution_count": null,
   "metadata": {},
   "outputs": [],
   "source": [
    "numlist = \"3\",\"4\",\"9\",\"76\",\"891\"\n",
    "for  in :\n",
    "    if :\n",
    "        print( + \" is divisible by 3\")\n",
    "        continue\n",
    "    else:\n",
    "        continue\n",
    "            "
   ]
  },
  {
   "cell_type": "markdown",
   "metadata": {},
   "source": [
    "Homework/Binary Adaptation: Create a python function that will convert a decimal number 1-255 to binary using mathematical operations and powers of 2."
   ]
  },
  {
   "cell_type": "code",
   "execution_count": null,
   "metadata": {},
   "outputs": [],
   "source": [
    "def convert():"
   ]
  },
  {
   "cell_type": "markdown",
   "metadata": {},
   "source": [
    "## 3.4 Strings(Show video 1)"
   ]
  },
  {
   "cell_type": "markdown",
   "metadata": {},
   "source": [
    "### Vocab: fill in the blanks using the video\n",
    "Index is a number representing a position, like a character's position in a string or a string's position in a list.  \n",
    "A string is a series of characters.  \n",
    "Concatenation is ______  \n",
    "Length is ____  \n",
    "A substring is _______  "
   ]
  },
  {
   "cell_type": "markdown",
   "metadata": {},
   "source": [
    "Substring/Length Practice: change the print functions to print \"hello\", \"bye\", and the string length"
   ]
  },
  {
   "cell_type": "code",
   "execution_count": null,
   "metadata": {},
   "outputs": [],
   "source": [
    "#substring = string[start:end] \n",
    "#the substring will have the characters including the index \"start\" to the character BEFORE the index \"end\"\n",
    "#len(string) will print the length of string\n",
    "\n",
    "string = \"hellobye\"\n",
    "print()\n",
    "print()\n",
    "print()"
   ]
  },
  {
   "cell_type": "markdown",
   "metadata": {},
   "source": [
    "Concatenation Practice: combine string1 and string2 to make string3, then print string3."
   ]
  },
  {
   "cell_type": "code",
   "execution_count": null,
   "metadata": {},
   "outputs": [],
   "source": [
    "#string1 + string2 will add string2 to the end of string1\n",
    "\n",
    "string1 = \"computer\"\n",
    "string2 = \"science\"\n",
    "string3 = \n",
    "print(string3)"
   ]
  },
  {
   "cell_type": "markdown",
   "metadata": {},
   "source": [
    "Homework/List Adaptation: create a function that prints the name of each string in the list and the string's length."
   ]
  },
  {
   "cell_type": "code",
   "execution_count": null,
   "metadata": {},
   "outputs": [],
   "source": [
    "names = [\"jaden\",\"max\",\"dylan\",\"orlando\"]\n",
    "\n",
    "def length(list):\n",
    "    for  in :\n",
    "        print()\n",
    "\n",
    "length(names)\n"
   ]
  },
  {
   "cell_type": "markdown",
   "metadata": {},
   "source": [
    "Stuck? Check out [what we did.](https://raisinbran25.github.io/csp2/2022/11/18/expressions.html)"
   ]
  }
 ],
 "metadata": {
  "kernelspec": {
   "display_name": "Python 3.8.10 64-bit",
   "language": "python",
   "name": "python3"
  },
  "language_info": {
   "codemirror_mode": {
    "name": "ipython",
    "version": 3
   },
   "file_extension": ".py",
   "mimetype": "text/x-python",
   "name": "python",
   "nbconvert_exporter": "python",
   "pygments_lexer": "ipython3",
   "version": "3.8.10"
  },
  "orig_nbformat": 4,
  "vscode": {
   "interpreter": {
    "hash": "916dbcbb3f70747c44a77c7bcd40155683ae19c65e1c03b4aa3499c5328201f1"
   }
  }
 },
 "nbformat": 4,
 "nbformat_minor": 2
}
