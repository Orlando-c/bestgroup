{
 "cells": [
  {
   "cell_type": "markdown",
   "metadata": {},
   "source": [
    "|Name|Full Score|\n",
    "|-|-|\n",
    "|Rohan A.|.9/1|\n",
    "|Chris A.|.9/1|\n",
    "|Haseeb B.|1/1|\n",
    "|Prasith C.|1/1|\n",
    "|Zeen D.|-/1|\n",
    "|Jeffrey F.|1/1|\n",
    "|Ananya G.|.9/1|\n",
    "|Vyaan G.|/1|\n",
    "|Shivansh G.|1/1|\n",
    "|Noor G.|1/1|\n",
    "|Ryan H.|.9/1|\n",
    "|Gnanam J.|1/1|\n",
    "|Nathin K.|1/1|\n",
    "|Tay K.|1/1|\n",
    "|Dillon L.|-/1|\n",
    "|Alex L.|1/1|\n",
    "|Shruthi M.|.9/1|\n",
    "|Colin M.|1/1|\n",
    "|Emaad M.|.9/1|\n",
    "|Lucas M.|.9/1|\n",
    "|Aditya N.|1/1|\n",
    "|Kiera O.|1/1|\n",
    "|Tanisha P.|1/1|\n",
    "|Chinmay R.|1/1|\n",
    "|Andrew R.|1/1|\n",
    "|Alyssa R.|-/1|\n",
    "|Adan R.|1/1|\n",
    "|Shreyas S.|-/1|\n",
    "|Jiya S.|1/1|\n",
    "|Sabine S.|.9/1|\n",
    "|Alya T.|1/1|\n",
    "|Sophia T.|.9/1|\n",
    "|Haoxuan T.|1/1|\n",
    "|Lily W.|1/1|\n",
    "|Ethan Z.|1/1|\n",
    "\n",
    "If you got -/1 please come to us!"
   ]
  }
 ],
 "metadata": {
  "kernelspec": {
   "display_name": "Python 3.10.6 64-bit",
   "language": "python",
   "name": "python3"
  },
  "language_info": {
   "name": "python",
   "version": "3.10.6"
  },
  "orig_nbformat": 4,
  "vscode": {
   "interpreter": {
    "hash": "916dbcbb3f70747c44a77c7bcd40155683ae19c65e1c03b4aa3499c5328201f1"
   }
  }
 },
 "nbformat": 4,
 "nbformat_minor": 2
}
